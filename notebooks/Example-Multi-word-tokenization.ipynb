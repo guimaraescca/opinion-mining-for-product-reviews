{
 "cells": [
  {
   "cell_type": "code",
   "execution_count": 4,
   "metadata": {},
   "outputs": [
    {
     "name": "stdout",
     "output_type": "stream",
     "text": [
      "São bons fones de ouvido estes que me venderam \n",
      "['são', 'bons', 'fones', 'de', 'ouvido', 'estes', 'que', 'me', 'venderam'] \n",
      "['são', 'bons', 'fones de ouvido', 'estes', 'que', 'me', 'venderam']\n"
     ]
    }
   ],
   "source": [
    "import nltk\n",
    "from nltk.tokenize import MWETokenizer\n",
    "\n",
    "text = 'São bons fones de ouvido estes que me venderam'\n",
    "words = nltk.word_tokenize(text.lower())\n",
    "mwtokenizer = MWETokenizer([('fones', 'de', 'ouvido'),('qualidade', 'de', 'imagem')], separator=' ')\n",
    "tokens = mwtokenizer.tokenize(words)\n",
    "\n",
    "print(f'{text} \\n{words} \\n{tokens}')"
   ]
  }
 ],
 "metadata": {
  "kernelspec": {
   "display_name": "Python 3",
   "language": "python",
   "name": "python3"
  },
  "language_info": {
   "codemirror_mode": {
    "name": "ipython",
    "version": 3
   },
   "file_extension": ".py",
   "mimetype": "text/x-python",
   "name": "python",
   "nbconvert_exporter": "python",
   "pygments_lexer": "ipython3",
   "version": "3.6.5"
  }
 },
 "nbformat": 4,
 "nbformat_minor": 2
}
