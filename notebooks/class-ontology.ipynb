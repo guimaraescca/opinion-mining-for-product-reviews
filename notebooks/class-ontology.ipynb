{
 "cells": [
  {
   "cell_type": "code",
   "execution_count": 1,
   "metadata": {},
   "outputs": [],
   "source": [
    "import pandas as pd\n",
    "import rdflib\n",
    "import rdflib.plugins.sparql as sparql\n",
    "from rdflib.namespace import RDF, RDFS, OWL"
   ]
  },
  {
   "cell_type": "code",
   "execution_count": 2,
   "metadata": {
    "scrolled": false
   },
   "outputs": [],
   "source": [
    "\n",
    "class Ontology:\n",
    "    \"\"\"\n",
    "    OWL Ontology class.\n",
    "    \"\"\"\n",
    "\n",
    "    def __init__(self, filename):\n",
    "        \"\"\"Construct an Ontology object and create the corresponding RDFLIB graph.\"\"\"\n",
    "        self.g = rdflib.Graph()\n",
    "        self.g.load(filename)\n",
    "\n",
    "    def search(self, search_term):\n",
    "        \"\"\"\n",
    "        Search for an aspect that corresponds to the given term.\n",
    "        Returns the aspect's class in case of success. Otherwise, returns 'None'.\n",
    "        \"\"\"\n",
    "\n",
    "        search_term = search_term.lower()\n",
    "        \n",
    "        # Especifies the query syntax\n",
    "        query = sparql.prepareQuery(\"\"\"\n",
    "                SELECT DISTINCT ?individualLabel ?classLabel \n",
    "                WHERE {\n",
    "                    ?y rdf:type owl:Class . \n",
    "                    ?y rdfs:label ?classLabel . \n",
    "                    OPTIONAL{\n",
    "                        ?x rdf:type ?y .\n",
    "                        ?x rdfs:label ?individualLabel .\n",
    "                    }\n",
    "                    FILTER( REGEX(str(?individualLabel), \"^%s([_]|$)|([_]|^)%s$\", \"i\") ||\n",
    "                             REGEX(str(?classLabel), \"^%s([_]|$)|([_]|^)%s$\", \"i\")) \n",
    "                } \n",
    "                ORDER BY ASC(?classLabel)\"\"\" % (search_term, search_term, search_term, search_term),\n",
    "                initNs = {'rdf': RDF,\n",
    "                          'rdfs': RDFS ,\n",
    "                          'owl': OWL})\n",
    "        \n",
    "        # Perform the query through the ontology\n",
    "        query_result = self.g.query(query, DEBUG = True)\n",
    "\n",
    "        # Transform the query results to a Pandas DataFrame format\n",
    "        data = []\n",
    "        for row in query_result:\n",
    "            data_row = []\n",
    "            for x in row:\n",
    "                if x is not None: \n",
    "                    x = x.toPython()\n",
    "                data_row.append(x)\n",
    "            data.append(data_row)\n",
    "\n",
    "        df = pd.DataFrame(data, columns=['individualLabel', 'classLabel'])\n",
    "\n",
    "        # Retrives the first class listed on the DataFrame, in case it exists\n",
    "        try:\n",
    "            result_class = df.loc[0, 'classLabel']\n",
    "        except KeyError:\n",
    "            result_class = None\n",
    "\n",
    "        return(result_class)\n"
   ]
  },
  {
   "cell_type": "code",
   "execution_count": 3,
   "metadata": {},
   "outputs": [],
   "source": [
    "# Create an ontology\n",
    "ontology = Ontology('../ontologies/smartphone_aspects.owl')"
   ]
  },
  {
   "cell_type": "code",
   "execution_count": 4,
   "metadata": {},
   "outputs": [
    {
     "name": "stdout",
     "output_type": "stream",
     "text": [
      "gostei - None\n",
      "dos - None\n",
      "fones - None\n",
      "de - None\n",
      "ouvido - Fone\n"
     ]
    }
   ],
   "source": [
    "review = ['gostei','dos','fones','de','ouvido']\n",
    "\n",
    "for word in review:\n",
    "    search = ontology.search(word)\n",
    "    print(f'{word} - {search}')"
   ]
  }
 ],
 "metadata": {
  "kernelspec": {
   "display_name": "Python 3",
   "language": "python",
   "name": "python3"
  },
  "language_info": {
   "codemirror_mode": {
    "name": "ipython",
    "version": 3
   },
   "file_extension": ".py",
   "mimetype": "text/x-python",
   "name": "python",
   "nbconvert_exporter": "python",
   "pygments_lexer": "ipython3",
   "version": "3.6.4"
  }
 },
 "nbformat": 4,
 "nbformat_minor": 2
}
