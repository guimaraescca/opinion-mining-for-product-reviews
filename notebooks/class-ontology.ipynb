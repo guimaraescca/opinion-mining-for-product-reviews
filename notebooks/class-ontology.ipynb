{
 "cells": [
  {
   "cell_type": "code",
   "execution_count": 1,
   "metadata": {
    "collapsed": true
   },
   "outputs": [],
   "source": [
    "import rdflib\n",
    "from rdflib.namespace import RDF, RDFS, OWL"
   ]
  },
  {
   "cell_type": "code",
   "execution_count": 2,
   "metadata": {
    "collapsed": true,
    "scrolled": false
   },
   "outputs": [],
   "source": [
    "class Ontology:\n",
    "    \"\"\"\n",
    "    OWL Ontology class.\n",
    "    \"\"\"\n",
    "\n",
    "    def __init__(self, filename):\n",
    "        \"\"\"Construct an Ontology object and create the corresponding RDFLIB graph.\"\"\"\n",
    "        self.g = rdflib.Graph()\n",
    "        self.g.load(filename)\n",
    "\n",
    "    def search(self, search_term):\n",
    "        \"\"\"\n",
    "        Search for an aspect or aspect's class that corresponds to the given term.\n",
    "        Returns the aspect or aspect's class in case of success. Otherwise, return 'None'.\n",
    "        \"\"\"\n",
    "\n",
    "        search_term = search_term.lower()\n",
    "\n",
    "        # Search for every relation 'is a type of' between aspects and classes \n",
    "        for b in self.g.subject_objects(RDF.type):\n",
    "\n",
    "            # Check if the subject is a class\n",
    "            is_class = False\n",
    "            if (b[1] == OWL.Class): is_class = True \n",
    "\n",
    "            # Discard some nonrelevant objects\n",
    "            if b[1] != OWL.NamedIndividual and b[1] != OWL.Ontology:\n",
    "\n",
    "                # Extract subject as a lowercase string\n",
    "                sub = self.g.label(b[0]).toPython().lower()\n",
    "\n",
    "                # Select results that match the search\n",
    "                if sub == search_term:\n",
    "                    if is_class:\n",
    "                        return(sub)\n",
    "                    else:\n",
    "                        obj = self.g.label(b[1]).toPython().lower()\n",
    "                        return(obj)\n",
    "\n",
    "        return(None)"
   ]
  },
  {
   "cell_type": "code",
   "execution_count": 3,
   "metadata": {},
   "outputs": [],
   "source": [
    "# Create ontology\n",
    "ontology = Ontology('../ontologies/smartphone_aspects.owl')"
   ]
  },
  {
   "cell_type": "code",
   "execution_count": 4,
   "metadata": {},
   "outputs": [
    {
     "name": "stdout",
     "output_type": "stream",
     "text": [
      "gostei - None\n",
      "dos - None\n",
      "fones - None\n",
      "de - None\n",
      "ouvido - None\n"
     ]
    }
   ],
   "source": [
    "review = ['gostei','dos','fones','de','ouvido']\n",
    "tag = []\n",
    "\n",
    "f_aspect = 0\n",
    "\n",
    "for word in review:\n",
    "    # Is context word?\n",
    "    \n",
    "    # Is aspect?\n",
    "    search = ontology.search(word)\n",
    "    tag.append(search)\n",
    "    \n",
    "    # Posible aspect?\n",
    "    f_aspect += 1\n",
    "    \n",
    "    # Is sentiment word?\n",
    "for i, word in enumerate(review):\n",
    "    print(f'{word} - {tag[i]}')"
   ]
  }
 ],
 "metadata": {
  "kernelspec": {
   "display_name": "Python 3",
   "language": "python",
   "name": "python3"
  },
  "language_info": {
   "codemirror_mode": {
    "name": "ipython",
    "version": 3
   },
   "file_extension": ".py",
   "mimetype": "text/x-python",
   "name": "python",
   "nbconvert_exporter": "python",
   "pygments_lexer": "ipython3",
   "version": "3.6.2"
  }
 },
 "nbformat": 4,
 "nbformat_minor": 2
}
